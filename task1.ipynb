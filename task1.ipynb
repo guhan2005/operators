{
 "cells": [
  {
   "cell_type": "code",
   "execution_count": null,
   "id": "31505832",
   "metadata": {
    "vscode": {
     "languageId": "plaintext"
    }
   },
   "outputs": [],
   "source": [
    "fgdfcv hgfg"
   ]
  }
 ],
 "metadata": {
  "language_info": {
   "name": "python"
  }
 },
 "nbformat": 4,
 "nbformat_minor": 5
}
